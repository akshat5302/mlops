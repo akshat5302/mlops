{
 "cells": [
  {
   "cell_type": "code",
   "execution_count": 1,
   "metadata": {},
   "outputs": [
    {
     "name": "stderr",
     "output_type": "stream",
     "text": [
      "Using TensorFlow backend.\n"
     ]
    }
   ],
   "source": [
    "import keras"
   ]
  },
  {
   "cell_type": "code",
   "execution_count": 2,
   "metadata": {},
   "outputs": [],
   "source": [
    "from keras.datasets import mnist\n",
    "from keras.models import Sequential\n",
    "from keras.utils.np_utils import to_categorical\n",
    "from keras.layers import Dense\n",
    "from keras.optimizers import Adam\n",
    "from keras.backend import clear_session\n",
    "import numpy"
   ]
  },
  {
   "cell_type": "code",
   "execution_count": 4,
   "metadata": {},
   "outputs": [
    {
     "name": "stdout",
     "output_type": "stream",
     "text": [
      "Downloading data from https://s3.amazonaws.com/img-datasets/mnist.npz\n",
      "11493376/11490434 [==============================] - 11s 1us/step\n"
     ]
    }
   ],
   "source": [
    "# LOADING MNIST DATASET IN OUR MODEL\n",
    "(train_X , train_y) , (test_X , test_y) = mnist.load_data(\"mnist.data\")"
   ]
  },
  {
   "cell_type": "code",
   "execution_count": 6,
   "metadata": {},
   "outputs": [],
   "source": [
    "# RESHAPING DATA AND CHANGING IT'S SIZE\n",
    "test_X = test_X.reshape(-1 , 28*28)\n",
    "train_X = train_X.reshape(-1 , 28*28)\n",
    "test_X = test_X.astype(\"float32\")\n",
    "train_X = train_X.astype(\"float32\")\n",
    "\n",
    "# ONE HOT ENCODING\n",
    "test_y = to_categorical(test_y)\n",
    "train_y = to_categorical(train_y)\n"
   ]
  },
  {
   "cell_type": "code",
   "execution_count": 8,
   "metadata": {},
   "outputs": [],
   "source": [
    "# load Model\n",
    "model = Sequential()\n",
    "model.add(Dense(units=20 , input_dim = 28*28 , activation = 'relu'))\n",
    "model.add(Dense(units=300 , input_dim = 28*28 , activation = 'relu'))\n",
    "model.add(Dense(units=80 , input_dim = 28*28 , activation = 'relu'))\n",
    "model.add(Dense(units=60 , input_dim = 28*28 , activation = 'relu'))\n",
    "model.add(Dense(units=10 , input_dim = 28*28 , activation = 'softmax'))\n",
    "model.compile(optimizer=\"Adam\" , loss='categorical_crossentropy' , metrics=['accuracy'])\n",
    "fit_model = model.fit(train_X , train_y , epochs = 3 , verbose= False)"
   ]
  },
  {
   "cell_type": "code",
   "execution_count": 10,
   "metadata": {},
   "outputs": [
    {
     "name": "stdout",
     "output_type": "stream",
     "text": [
      "Accuracy of Model is :  92 %\n"
     ]
    }
   ],
   "source": [
    "# Saving and printing accuracy of our model\n",
    "text = fit_model.history\n",
    "accuracy = text['accuracy'][1] * 100\n",
    "accuracy= int(accuracy)\n",
    "f=open(\"accuracy.txt\",\"w+\")\n",
    "f.write(str(accuracy))\n",
    "f.close()\n",
    "print(\"Accuracy of Model is : \" , accuracy,\"%\" )"
   ]
  },
  {
   "cell_type": "code",
   "execution_count": null,
   "metadata": {},
   "outputs": [],
   "source": []
  }
 ],
 "metadata": {
  "kernelspec": {
   "display_name": "Python 3",
   "language": "python",
   "name": "python3"
  },
  "language_info": {
   "codemirror_mode": {
    "name": "ipython",
    "version": 3
   },
   "file_extension": ".py",
   "mimetype": "text/x-python",
   "name": "python",
   "nbconvert_exporter": "python",
   "pygments_lexer": "ipython3",
   "version": "3.7.7"
  }
 },
 "nbformat": 4,
 "nbformat_minor": 4
}
