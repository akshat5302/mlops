{
 "cells": [
  {
   "cell_type": "code",
   "execution_count": 1,
   "metadata": {},
   "outputs": [
    {
     "name": "stderr",
     "output_type": "stream",
     "text": [
      "Using TensorFlow backend.\n"
     ]
    }
   ],
   "source": [
    "import keras\n",
    "from keras.datasets import mnist\n",
    "from keras.models import Sequential\n",
    "from keras.utils.np_utils import to_categorical\n",
    "from keras.layers import Dense\n",
    "from keras.optimizers import Adam\n",
    "from keras.backend import clear_session\n",
    "import numpy"
   ]
  },
  {
   "cell_type": "code",
   "execution_count": 5,
   "metadata": {},
   "outputs": [],
   "source": [
    "# Model Train function\n",
    "def model_train(neurons , model , epochs , test) :\n",
    "            print(\"\\n\" , \" *** model summary *** \" , \"\\n\",\"Iteration :\", test , \"\\n\" , \"Neurons : \",neurons , \"\\n\" , \" Epochs: \", epochs)\n",
    "            model.add(Dense(units=neurons , input_dim = 28*28 , activation = 'relu'))\n",
    "            model.add(Dense(units=300 , input_dim = 28*28 , activation = 'relu'))\n",
    "            model.add(Dense(units=80 , input_dim = 28*28 , activation = 'relu'))\n",
    "            model.add(Dense(units=60 , input_dim = 28*28 , activation = 'relu'))\n",
    "            model.add(Dense(units=10 , input_dim = 28*28 , activation = 'softmax'))\n",
    "            model.compile(optimizer=\"Adam\" , loss='categorical_crossentropy' , metrics=['accuracy'])\n",
    "            return model"
   ]
  },
  {
   "cell_type": "code",
   "execution_count": 6,
   "metadata": {},
   "outputs": [],
   "source": [
    "# Function for saving and printing accuracy in txt file\n",
    "def save_model(fit_model, epochs) :\n",
    "        text = fit_model.history\n",
    "        accuracy = text['accuracy'][1] * 100\n",
    "        accuracy= int(accuracy)\n",
    "        f=open(\"accuracy.txt\",\"w+\")\n",
    "        f.write(str(accuracy))\n",
    "        f.close()\n",
    "        print(\"Accuracy of Model is : \" , accuracy,\"%\" )\n",
    "        return accuracy\n",
    "           "
   ]
  },
  {
   "cell_type": "code",
   "execution_count": 7,
   "metadata": {},
   "outputs": [],
   "source": [
    "# LOADING MNIST DATASET IN OUR MODEL\n",
    "(train_X , train_y) , (test_X , test_y) = mnist.load_data(\"mnist.data\")\n",
    "# RESHAPING DATA AND CHANGING IT'S SIZE\n",
    "test_X = test_X.reshape(-1 , 28*28)\n",
    "train_X = train_X.reshape(-1 , 28*28)\n",
    "test_X = test_X.astype(\"float32\")\n",
    "train_X = train_X.astype(\"float32\")\n",
    "\n",
    "# ONE HOT ENCODING\n",
    "test_y = to_categorical(test_y)\n",
    "train_y = to_categorical(train_y)"
   ]
  },
  {
   "cell_type": "code",
   "execution_count": 9,
   "metadata": {},
   "outputs": [
    {
     "name": "stdout",
     "output_type": "stream",
     "text": [
      "\n",
      "  *** model summary ***  \n",
      " Iteration : 1 \n",
      " Neurons :  10 \n",
      "  Epochs:  1\n",
      "Determining Accuracy...\n",
      "Accuracy of Model is :  85 %\n",
      "\n",
      "  *** model summary ***  \n",
      " Iteration : 2 \n",
      " Neurons :  20 \n",
      "  Epochs:  2\n",
      "Determining Accuracy...\n",
      "Accuracy of Model is :  92 %\n",
      "\n",
      "  *** model summary ***  \n",
      " Iteration : 3 \n",
      " Neurons :  30 \n",
      "  Epochs:  3\n",
      "Determining Accuracy...\n",
      "Accuracy of Model is :  92 %\n",
      "\n",
      "  *** model summary ***  \n",
      " Iteration : 4 \n",
      " Neurons :  40 \n",
      "  Epochs:  4\n",
      "Determining Accuracy...\n",
      "Accuracy of Model is :  93 %\n",
      "\n",
      "  *** model summary ***  \n",
      " Iteration : 5 \n",
      " Neurons :  50 \n",
      "  Epochs:  5\n",
      "Determining Accuracy...\n",
      "Accuracy of Model is :  94 %\n"
     ]
    }
   ],
   "source": [
    "# initializing variables and making a loop for model till desired accuracy is not fullfilled\n",
    "neurons = 10\n",
    "accuracy = 0\n",
    "epochs = 1\n",
    "test =1\n",
    "flag = 0\n",
    "\n",
    "while int(accuracy) <= 93 :\n",
    "        if flag == 1 :\n",
    "                model = keras.backend.clear_session()\n",
    "                neurons = neurons+10\n",
    "                epochs = epochs+1\n",
    "                test = test + 1\n",
    "        model = Sequential()\n",
    "        model = model_train(neurons , model , epochs , test)\n",
    "        print(\"Determining Accuracy...\")\n",
    "        fit_model = model.fit(train_X , train_y , epochs = 3 , verbose= False)\n",
    "        accuracy=save_model(fit_model , epochs)\n",
    "        flag = 1"
   ]
  },
  {
   "cell_type": "code",
   "execution_count": null,
   "metadata": {},
   "outputs": [],
   "source": []
  }
 ],
 "metadata": {
  "kernelspec": {
   "display_name": "Python 3",
   "language": "python",
   "name": "python3"
  },
  "language_info": {
   "codemirror_mode": {
    "name": "ipython",
    "version": 3
   },
   "file_extension": ".py",
   "mimetype": "text/x-python",
   "name": "python",
   "nbconvert_exporter": "python",
   "pygments_lexer": "ipython3",
   "version": "3.7.7"
  }
 },
 "nbformat": 4,
 "nbformat_minor": 4
}
